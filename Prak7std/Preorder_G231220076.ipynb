{
  "nbformat": 4,
  "nbformat_minor": 0,
  "metadata": {
    "colab": {
      "provenance": []
    },
    "kernelspec": {
      "name": "python3",
      "display_name": "Python 3"
    },
    "language_info": {
      "name": "python"
    }
  },
  "cells": [
    {
      "cell_type": "code",
      "source": [
        "class Node:\n",
        "    def __init__(self, key):\n",
        "        self.left = None\n",
        "        self.right = None\n",
        "        self.val = key\n",
        "\n",
        "def printPreorder(root):\n",
        "    if root:\n",
        "        # Print the data of the node\n",
        "        print(root.val, end=' ')\n",
        "        # Recur on the left subtree\n",
        "        printPreorder(root.left)\n",
        "        # Recur on the right subtree\n",
        "        printPreorder(root.right)\n",
        "\n",
        "# Creating a sample binary tree\n",
        "root = Node(1)\n",
        "root.left = Node(2)\n",
        "root.right = Node(3)\n",
        "root.left.left = Node(4)\n",
        "root.left.right = Node(5)\n",
        "\n",
        "# Function call\n",
        "print(\"Preorder traversal of binary tree is\")\n",
        "printPreorder(root)\n"
      ],
      "metadata": {
        "colab": {
          "base_uri": "https://localhost:8080/"
        },
        "id": "kGLhMKdvjhED",
        "outputId": "4c99a124-dd85-4aa9-81bc-621ab8496abe"
      },
      "execution_count": null,
      "outputs": [
        {
          "output_type": "stream",
          "name": "stdout",
          "text": [
            "Preorder traversal of binary tree is\n",
            "1 2 4 5 3 "
          ]
        }
      ]
    }
  ]
}
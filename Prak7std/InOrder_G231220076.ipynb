{
  "cells": [
    {
      "cell_type": "code",
      "execution_count": 7,
      "metadata": {
        "colab": {
          "base_uri": "https://localhost:8080/"
        },
        "id": "0ebrvm8YaPN8",
        "outputId": "2d76b021-c176-41fe-a0ce-697549b2e713"
      },
      "outputs": [
        {
          "output_type": "stream",
          "name": "stdout",
          "text": [
            "\n",
            "Inorder traversals of binary tree is\n"
          ]
        }
      ],
      "source": [
        "#Python3 program to for tree traversals\n",
        "#Inorder\n",
        "class Node:\n",
        "  def __init__(self, key):\n",
        "    self.left = None\n",
        "    self.right = None\n",
        "    self.val = key\n",
        "\n",
        "#A function to do inorder tree traversals\n",
        "def printInorder(root):\n",
        "\n",
        "  if root:\n",
        "\n",
        "    #First recur on left child\n",
        "    printInorder(root.left)\n",
        "\n",
        "    #then print the data of node\n",
        "    print(root.val),\n",
        "\n",
        "    #now recur on right child\n",
        "    printInorder(root.right)\n",
        "\n",
        " #Driver code\n",
        "if __name__ == \"__main__\":\n",
        "  root = Node(1)\n",
        "  root.left = Node(2)\n",
        "  root.right = Node(3)\n",
        "  root.left.left = Node(40 )\n",
        "  root.left.right = Node(5)\n",
        "\n",
        "  #Function call\n",
        "  print (\"\\nInorder traversals of binary tree is\")\n",
        "  printInorder"
      ]
    }
  ],
  "metadata": {
    "colab": {
      "provenance": []
    },
    "kernelspec": {
      "display_name": "Python 3",
      "name": "python3"
    },
    "language_info": {
      "name": "python"
    }
  },
  "nbformat": 4,
  "nbformat_minor": 0
}
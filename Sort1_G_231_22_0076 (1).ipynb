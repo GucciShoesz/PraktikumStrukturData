{
  "nbformat": 4,
  "nbformat_minor": 0,
  "metadata": {
    "colab": {
      "provenance": []
    },
    "kernelspec": {
      "name": "python3",
      "display_name": "Python 3"
    },
    "language_info": {
      "name": "python"
    }
  },
  "cells": [
    {
      "cell_type": "code",
      "execution_count": 1,
      "metadata": {
        "colab": {
          "base_uri": "https://localhost:8080/"
        },
        "id": "BJe5tsxLEWmU",
        "outputId": "0b5df618-8422-4dfb-9f47-d879a3e92f04"
      },
      "outputs": [
        {
          "output_type": "stream",
          "name": "stdout",
          "text": [
            "Data yang terurut adalah: [13, 15, 19, 25, 29]\n"
          ]
        }
      ],
      "source": [
        "def bubbleShort(data):\n",
        "\n",
        "    # Dapatkan panjang data\n",
        "    panjang = len(data) # Menghitung jumlah elemen dalam data\n",
        "\n",
        "    # Ulangi sampai data terurut\n",
        "    terurut = False # Membuat variabel boolean untuk mengecek apakah data sudah terurut atau belum\n",
        "    while not terurut: # Mengulangi selama data belum terurut\n",
        "        terurut = True # Mengasumsikan data sudah terurut\n",
        "\n",
        "        # Looping data dan tukar elemen yang tidak berurutan\n",
        "        for indeks in range(panjang-1): # Mengulangi indeks dari 0 sampai panjang data minus 1\n",
        "            if data[indeks] > data[indeks+1]: # Membandingkan elemen pada indeks saat ini dengan elemen berikutnya\n",
        "                terurut = False # Menandai data belum terurut\n",
        "                data[indeks], data[indeks+1] = data[indeks+1], data[indeks] # Menukar elemen yang tidak berurutan\n",
        "\n",
        "    # Kembalikan data yang terurut\n",
        "    return data # Mengembalikan data yang sudah terurut\n",
        "\n",
        "# Kode untuk menguji di atas\n",
        "data = [25, 29, 13, 19, 15] # Membuat data acak\n",
        "data_terurut = bubbleShort(data) # Memanggil fungsi bubbleShort dan menyimpan hasilnya dalam variabel data_terurut\n",
        "print(\"Data yang terurut adalah:\", data_terurut) # Mencetak data yang terurut\n",
        ""
      ]
    },
    {
      "cell_type": "code",
      "source": [
        "def selection_Sort(data):\n",
        "\n",
        "    # Looping data dan cari elemen minimum di setiap iterasi\n",
        "    for indeks in range(len(data)): # Mengulangi indeks dari 0 sampai panjang data minus 1\n",
        "        min_indeks = indeks # Mengasumsikan elemen pada indeks saat ini adalah minimum\n",
        "        for k in range(indeks+1, len(data)): # Mengulangi k dari indeks berikutnya sampai panjang data minus 1\n",
        "            if data[min_indeks] > data[k]: # Membandingkan elemen minimum dengan elemen pada k\n",
        "                min_indeks = k # Menyimpan indeks elemen minimum baru\n",
        "\n",
        "        # Tukar elemen minimum dengan elemen saat ini\n",
        "        data[indeks], data[min_indeks] = data[min_indeks], data[indeks] # Menukar elemen yang tidak berurutan\n",
        "\n",
        "    # Kembalikan data yang terurut\n",
        "    return data # Mengembalikan data yang sudah terurut\n",
        "\n",
        "# Kode untuk menguji di atas\n",
        "data = [25, 29, 13, 19, 15] # Membuat data acak\n",
        "data_terurut = selection_Sort(data) # Memanggil fungsi selection_Sort dan menyimpan hasilnya dalam variabel data_terurut\n",
        "print(\"Data yang terurut adalah:\", data_terurut) # Mencetak data yang terurut"
      ],
      "metadata": {
        "colab": {
          "base_uri": "https://localhost:8080/"
        },
        "id": "mtLcmWFBEXt7",
        "outputId": "1db68c01-1b41-42b1-9fb2-fd7cf84cccf5"
      },
      "execution_count": 2,
      "outputs": [
        {
          "output_type": "stream",
          "name": "stdout",
          "text": [
            "Data yang terurut adalah: [13, 15, 19, 25, 29]\n"
          ]
        }
      ]
    },
    {
      "cell_type": "code",
      "source": [
        "def insertionSort(data):\n",
        "\n",
        "    # Looping data dan sisipkan setiap elemen di posisi yang benar\n",
        "    for indeks in range(1, len(data)): # Mengulangi indeks dari 1 sampai panjang data minus 1\n",
        "        kunci = data[indeks] # Menyimpan elemen pada indeks saat ini sebagai kunci\n",
        "        k = indeks-1 # Menyimpan indeks sebelumnya sebagai k\n",
        "\n",
        "        # Geser elemen yang lebih besar dari kunci ke kanan\n",
        "        while k >= 0 and kunci < data[k]: # Mengulangi selama k tidak negatif dan kunci lebih kecil dari elemen pada k\n",
        "            data[k + 1] = data[k] # Menyalin elemen pada k ke posisi berikutnya\n",
        "            k -= 1 # Mengurangi k dengan satu\n",
        "\n",
        "        # Sisipkan kunci di posisi yang benar\n",
        "        data[k + 1] = kunci # Menempatkan kunci di posisi yang kosong\n",
        "\n",
        "    # Kembalikan data yang terurut\n",
        "    return data # Mengembalikan data yang sudah terurut\n",
        "\n",
        "# Kode untuk menguji di atas\n",
        "data = [25, 29, 13, 19, 15] # Membuat data acak\n",
        "data_terurut = insertionSort(data) # Memanggil fungsi insertionSort dan menyimpan hasilnya dalam variabel data_terurut\n",
        "print(\"Data yang terurut adalah:\", data_terurut) # Mencetak data yang terurut\n",
        ""
      ],
      "metadata": {
        "colab": {
          "base_uri": "https://localhost:8080/"
        },
        "id": "Cr_H3u35EXxO",
        "outputId": "9989e1bb-e6ff-49a6-95ff-468d5b11ba15"
      },
      "execution_count": 3,
      "outputs": [
        {
          "output_type": "stream",
          "name": "stdout",
          "text": [
            "Data yang terurut adalah: [13, 15, 19, 25, 29]\n"
          ]
        }
      ]
    }
  ]
}
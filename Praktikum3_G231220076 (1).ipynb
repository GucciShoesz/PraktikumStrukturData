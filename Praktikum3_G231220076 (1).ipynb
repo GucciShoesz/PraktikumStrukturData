{
  "nbformat": 4,
  "nbformat_minor": 0,
  "metadata": {
    "colab": {
      "provenance": []
    },
    "kernelspec": {
      "name": "python3",
      "display_name": "Python 3"
    },
    "language_info": {
      "name": "python"
    }
  },
  "cells": [
    {
      "cell_type": "markdown",
      "source": [
        "Nama : Nanda Veri Febriansyah\n",
        "\n",
        "NIM : G.231.22.0076\n"
      ],
      "metadata": {
        "id": "OAsdiUAJOh-f"
      }
    },
    {
      "cell_type": "code",
      "execution_count": 2,
      "metadata": {
        "colab": {
          "base_uri": "https://localhost:8080/"
        },
        "id": "SbSMozuELswK",
        "outputId": "a53b3323-68aa-4d1a-d601-e7c97d5dba13"
      },
      "outputs": [
        {
          "output_type": "stream",
          "name": "stdout",
          "text": [
            "programming\n"
          ]
        }
      ],
      "source": [
        "  hasil = \"\"\n",
        "  for char in s:\n",
        "    hasil += char\n",
        "\n",
        "#driver code\n",
        "s = ['p', 'r', 'o', 'g', 'r', 'a', 'm', 'm', 'i', 'n', 'g']\n",
        "print(hasil)"
      ]
    }
  ]
}
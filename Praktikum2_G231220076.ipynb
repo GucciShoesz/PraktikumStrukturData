{
  "nbformat": 4,
  "nbformat_minor": 0,
  "metadata": {
    "colab": {
      "provenance": []
    },
    "kernelspec": {
      "name": "python3",
      "display_name": "Python 3"
    },
    "language_info": {
      "name": "python"
    }
  },
  "cells": [
    {
      "cell_type": "markdown",
      "source": [
        "Selection Sort"
      ],
      "metadata": {
        "id": "z2BnM4tPROf4"
      }
    },
    {
      "cell_type": "code",
      "execution_count": null,
      "metadata": {
        "colab": {
          "base_uri": "https://localhost:8080/"
        },
        "id": "mLcm3UuLH7TP",
        "outputId": "13329b0f-e7c8-42ae-f618-33c675918d41"
      },
      "outputs": [
        {
          "output_type": "stream",
          "name": "stdout",
          "text": [
            "[2, 5, 4, 3, 7, 10, 9]\n",
            "[2, 3, 4, 5, 7, 10, 9]\n",
            "[2, 3, 4, 5, 7, 10, 9]\n",
            "[2, 3, 4, 5, 7, 10, 9]\n",
            "[2, 3, 4, 5, 7, 10, 9]\n",
            "[2, 3, 4, 5, 7, 9, 10]\n",
            "[2, 3, 4, 5, 7, 9, 10]\n"
          ]
        }
      ],
      "source": [
        "def mengurutkan(alist):\n",
        "  for slot in range(0,len(alist)-1):\n",
        "    position=slot\n",
        "    for location in range(slot+1,len(alist)):\n",
        "      if alist[location]<alist[position]:\n",
        "        position = location\n",
        "\n",
        "    temp = alist[slot]\n",
        "    alist[slot] = alist[position]\n",
        "    alist[position] = temp\n",
        "    print(alist)\n",
        "angka = [5,2,4,3,7,10,9]\n",
        "mengurutkan(angka)\n",
        "print(angka)"
      ]
    },
    {
      "cell_type": "markdown",
      "source": [
        "Praktikum2"
      ],
      "metadata": {
        "id": "A86B4vN_RYHh"
      }
    },
    {
      "cell_type": "code",
      "source": [
        "#contoh penggunaan tuple\n",
        "#program 1\n",
        "#Create a tuple with different data types\n",
        "print(\"program 1\")\n",
        "tuplex = (\"tuple\", False, 3.2, 1)\n",
        "print(tuplex)\n",
        "\n",
        "#program 2\n",
        "print(\"program 2\")\n",
        "#Create a tuple with numbers\n",
        "tuplex = 5, 10, 15, 20, 25\n",
        "print(tuplex)\n",
        "#Create a tuple of one item\n",
        "tuplex = 5,\n",
        "print(tuplex)\n",
        "\n",
        "print(\"program 3\")\n",
        "#program 3\n",
        "#create a tuple\n",
        "tuplex = (4, 6, 2, 8, 3, 1)\n",
        "print(tuplex)\n",
        "#tuples are immutable, so you can not add new elements\n",
        "#using merge of tuples with the + operator you can add an element and it will create a new tuple\n",
        "tuplex = tuplex + (9,)\n",
        "print(tuplex)\n",
        "#adding items in a specific index\n",
        "tuplex = tuplex[:5] + (15, 20, 25) + tuplex[:5]\n",
        "print(tuplex)\n",
        "#converting the tuple to list\n",
        "listx = list(tuplex)\n",
        "#use different ways to add items in list\n",
        "listx.append(30)\n",
        "tuplex = tuple(listx)\n",
        "print(tuplex)\n",
        "\n",
        "print(\"program 4\")\n",
        "#program 4\n",
        "#create a tuple\n",
        "tuplex = (4, 6, 2, 8, 3, 1)\n",
        "print(tuplex)\n",
        "#tuples are immutable, so you can not add new elements\n",
        "#using merge of tuples with the + operator you can add an element and it will create a new tuple\n",
        "tuplex = tuplex + (9,)\n",
        "print(tuplex)\n",
        "#adding items in a specific index\n",
        "tuplex = tuplex[:5] + (15, 20, 25) + tuplex[:5]\n",
        "print(tuplex)\n",
        "#converting the tuple to list\n",
        "listx = list(tuplex)\n",
        "#use different ways to add items in list\n",
        "listx.append(30)\n",
        "tuplex = tuple(listx)\n",
        "print(tuplex)"
      ],
      "metadata": {
        "colab": {
          "base_uri": "https://localhost:8080/"
        },
        "id": "UhBjGf_IRJGj",
        "outputId": "6a2d269f-b4aa-476d-ad57-9e00f3930b10"
      },
      "execution_count": null,
      "outputs": [
        {
          "output_type": "stream",
          "name": "stdout",
          "text": [
            "program 1\n",
            "('tuple', False, 3.2, 1)\n",
            "program 2\n",
            "(5, 10, 15, 20, 25)\n",
            "(5,)\n",
            "program 3\n",
            "(4, 6, 2, 8, 3, 1)\n",
            "(4, 6, 2, 8, 3, 1, 9)\n",
            "(4, 6, 2, 8, 3, 15, 20, 25, 4, 6, 2, 8, 3)\n",
            "(4, 6, 2, 8, 3, 15, 20, 25, 4, 6, 2, 8, 3, 30)\n",
            "program 4\n",
            "(4, 6, 2, 8, 3, 1)\n",
            "(4, 6, 2, 8, 3, 1, 9)\n",
            "(4, 6, 2, 8, 3, 15, 20, 25, 4, 6, 2, 8, 3)\n",
            "(4, 6, 2, 8, 3, 15, 20, 25, 4, 6, 2, 8, 3, 30)\n"
          ]
        }
      ]
    },
    {
      "cell_type": "code",
      "source": [
        "person = {'Name' : 'Nanda Veri Febriansyah', 'Pekerjaan' : 'Mekanik'}\n",
        "print(person['Name'])\n",
        "print(person['Pekerjaan'])"
      ],
      "metadata": {
        "colab": {
          "base_uri": "https://localhost:8080/"
        },
        "id": "77Oc911X7Wxk",
        "outputId": "b762adfe-db34-425a-b012-38ff00152342"
      },
      "execution_count": 3,
      "outputs": [
        {
          "output_type": "stream",
          "name": "stdout",
          "text": [
            "Nanda Veri Febriansyah\n",
            "Mekanik\n"
          ]
        }
      ]
    }
  ]
}